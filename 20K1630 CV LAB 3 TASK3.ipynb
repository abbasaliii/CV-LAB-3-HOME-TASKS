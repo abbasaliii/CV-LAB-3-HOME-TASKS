{
 "cells": [
  {
   "cell_type": "code",
   "execution_count": 1,
   "id": "fecc8165",
   "metadata": {},
   "outputs": [],
   "source": [
    "import cv2\n",
    "import numpy as np\n",
    "\n",
    "cap = cv2.VideoCapture(0)\n",
    "\n",
    "if not cap.isOpened():\n",
    "    print(\"Cannot open camera.\")\n",
    "else:\n",
    "    while True:\n",
    "        ret, frame = cap.read()\n",
    "\n",
    "        if not ret:\n",
    "            print(\"Cannot capture frame from the camera.\")\n",
    "            break\n",
    "\n",
    "        equalized_frame = cv2.equalizeHist(cv2.cvtColor(frame, cv2.COLOR_BGR2GRAY))\n",
    "\n",
    "        jet_colormap_frame = cv2.applyColorMap(equalized_frame, cv2.COLORMAP_JET)\n",
    "        jet_colormap_frame = cv2.cvtColor(jet_colormap_frame, cv2.COLOR_BGR2RGB)\n",
    "\n",
    "        color_balanced_frame = cv2.xphoto.createSimpleWB().balanceWhite(jet_colormap_frame)\n",
    "\n",
    "        def logarithmic_transform(x):\n",
    "            return int(255 * np.log1p(x) / np.log(256))\n",
    "\n",
    "        log_transform_lut = np.array([logarithmic_transform(x) for x in range(256)], dtype=np.uint8)\n",
    "        log_transformed_frame = cv2.LUT(color_balanced_frame, log_transform_lut)\n",
    "\n",
    "        gamma = 1.5\n",
    "        power_law_frame = np.uint8(255 * np.power(log_transformed_frame / log_transformed_frame.max(), gamma))\n",
    "\n",
    "        frame = cv2.resize(frame, (220, 140))\n",
    "        equalized_frame = cv2.resize(equalized_frame, (220, 140))\n",
    "        jet_colormap_frame = cv2.resize(jet_colormap_frame, (220, 140))\n",
    "        color_balanced_frame = cv2.resize(color_balanced_frame, (220, 140))\n",
    "        log_transformed_frame = cv2.resize(log_transformed_frame, (220, 140)).astype(np.uint8)\n",
    "        power_law_frame = cv2.resize(power_law_frame, (220, 140))\n",
    "\n",
    "        hist_equalization_frame = cv2.merge([equalized_frame] * 3)\n",
    "        heatmap_frame = jet_colormap_frame\n",
    "        color_balance_frame = color_balanced_frame\n",
    "        log_transform_frame = cv2.cvtColor(log_transformed_frame, cv2.COLOR_BGR2RGB)\n",
    "        power_law_adjusted_frame = power_law_frame\n",
    "\n",
    "        stacked_frames = np.hstack([frame, hist_equalization_frame, heatmap_frame, color_balance_frame,\n",
    "                                    log_transform_frame, power_law_adjusted_frame])\n",
    "\n",
    "        cv2.imshow('Enhanced Frames', stacked_frames)\n",
    "\n",
    "        if cv2.waitKey(1) & 0xFF == ord('x'):\n",
    "            break\n",
    "\n",
    "    cap.release()\n",
    "    cv2.destroyAllWindows()\n"
   ]
  },
  {
   "cell_type": "code",
   "execution_count": null,
   "id": "a99da37b",
   "metadata": {},
   "outputs": [],
   "source": []
  }
 ],
 "metadata": {
  "kernelspec": {
   "display_name": "Python 3 (ipykernel)",
   "language": "python",
   "name": "python3"
  },
  "language_info": {
   "codemirror_mode": {
    "name": "ipython",
    "version": 3
   },
   "file_extension": ".py",
   "mimetype": "text/x-python",
   "name": "python",
   "nbconvert_exporter": "python",
   "pygments_lexer": "ipython3",
   "version": "3.9.12"
  }
 },
 "nbformat": 4,
 "nbformat_minor": 5
}
